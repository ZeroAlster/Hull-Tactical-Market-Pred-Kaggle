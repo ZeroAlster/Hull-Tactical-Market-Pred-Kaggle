{
 "cells": [
  {
   "cell_type": "code",
   "execution_count": 4,
   "id": "a1f88bb7",
   "metadata": {},
   "outputs": [
    {
     "name": "stdout",
     "output_type": "stream",
     "text": [
      "Requirement already satisfied: kaggle in c:\\users\\alphazero\\anaconda3\\lib\\site-packages (1.7.4.5)\n",
      "Requirement already satisfied: python-slugify in c:\\users\\alphazero\\anaconda3\\lib\\site-packages (from kaggle) (8.0.4)\n",
      "Requirement already satisfied: webencodings in c:\\users\\alphazero\\anaconda3\\lib\\site-packages (from kaggle) (0.5.1)\n",
      "Requirement already satisfied: bleach in c:\\users\\alphazero\\anaconda3\\lib\\site-packages (from kaggle) (3.3.0)\n",
      "Requirement already satisfied: setuptools>=21.0.0 in c:\\users\\alphazero\\anaconda3\\lib\\site-packages (from kaggle) (52.0.0.post20210125)\n",
      "Requirement already satisfied: six>=1.10 in c:\\users\\alphazero\\anaconda3\\lib\\site-packages (from kaggle) (1.15.0)\n",
      "Requirement already satisfied: requests in c:\\users\\alphazero\\anaconda3\\lib\\site-packages (from kaggle) (2.25.1)\n",
      "Requirement already satisfied: charset-normalizer in c:\\users\\alphazero\\anaconda3\\lib\\site-packages (from kaggle) (3.4.3)\n",
      "Requirement already satisfied: tqdm in c:\\users\\alphazero\\anaconda3\\lib\\site-packages (from kaggle) (4.59.0)\n",
      "Requirement already satisfied: python-dateutil>=2.5.3 in c:\\users\\alphazero\\anaconda3\\lib\\site-packages (from kaggle) (2.8.1)\n",
      "Requirement already satisfied: urllib3>=1.15.1 in c:\\users\\alphazero\\anaconda3\\lib\\site-packages (from kaggle) (1.26.4)\n",
      "Requirement already satisfied: certifi>=14.05.14 in c:\\users\\alphazero\\anaconda3\\lib\\site-packages (from kaggle) (2020.6.20)\n",
      "Requirement already satisfied: text-unidecode in c:\\users\\alphazero\\anaconda3\\lib\\site-packages (from kaggle) (1.3)\n",
      "Requirement already satisfied: protobuf in c:\\users\\alphazero\\anaconda3\\lib\\site-packages (from kaggle) (3.17.3)\n",
      "Requirement already satisfied: idna in c:\\users\\alphazero\\anaconda3\\lib\\site-packages (from kaggle) (2.10)\n",
      "Requirement already satisfied: packaging in c:\\users\\alphazero\\anaconda3\\lib\\site-packages (from bleach->kaggle) (20.9)\n",
      "Requirement already satisfied: pyparsing>=2.0.2 in c:\\users\\alphazero\\anaconda3\\lib\\site-packages (from packaging->bleach->kaggle) (2.4.7)\n",
      "Requirement already satisfied: chardet<5,>=3.0.2 in c:\\users\\alphazero\\anaconda3\\lib\\site-packages (from requests->kaggle) (4.0.0)\n",
      "Note: you may need to restart the kernel to use updated packages.\n"
     ]
    }
   ],
   "source": [
    "pip install kaggle"
   ]
  },
  {
   "cell_type": "code",
   "execution_count": 5,
   "id": "e7448e01",
   "metadata": {},
   "outputs": [
    {
     "name": "stdout",
     "output_type": "stream",
     "text": [
      "Requirement already satisfied: unzip in c:\\users\\alphazero\\anaconda3\\lib\\site-packages (1.0.0)Note: you may need to restart the kernel to use updated packages.\n",
      "\n"
     ]
    }
   ],
   "source": [
    "pip install unzip"
   ]
  },
  {
   "cell_type": "code",
   "execution_count": 6,
   "id": "b7e71e5b",
   "metadata": {},
   "outputs": [
    {
     "name": "stdout",
     "output_type": "stream",
     "text": [
      "Collecting package metadata (current_repodata.json): ...working... done\n",
      "Solving environment: ...working... done\n",
      "\n",
      "# All requested packages already installed.\n",
      "\n",
      "Retrieving notices: ...working... done\n",
      "\n",
      "Note: you may need to restart the kernel to use updated packages.\n"
     ]
    }
   ],
   "source": [
    "conda install git"
   ]
  },
  {
   "cell_type": "code",
   "execution_count": 7,
   "id": "2cf3f56c",
   "metadata": {},
   "outputs": [
    {
     "name": "stdout",
     "output_type": "stream",
     "text": [
      "Downloading hull-tactical-market-prediction.zip to c:\\Users\\AlphaZero\\OneDrive\\Documents\\Hull-Tactical-VsCode\n",
      "\n"
     ]
    },
    {
     "name": "stderr",
     "output_type": "stream",
     "text": [
      "\n",
      "  0%|          | 0.00/4.00M [00:00<?, ?B/s]\n",
      "100%|██████████| 4.00M/4.00M [00:00<00:00, 482MB/s]\n"
     ]
    }
   ],
   "source": [
    "!kaggle competitions download -c hull-tactical-market-prediction"
   ]
  },
  {
   "cell_type": "code",
   "execution_count": 8,
   "id": "afed27a0",
   "metadata": {},
   "outputs": [
    {
     "name": "stdout",
     "output_type": "stream",
     "text": [
      " Volume in drive C is Windows-SSD\n",
      " Volume Serial Number is EECE-D136\n",
      "\n",
      " Directory of c:\\Users\\AlphaZero\\OneDrive\\Documents\\Hull-Tactical-VsCode\n",
      "\n",
      "10/15/2025  10:03 AM    <DIR>          .\n",
      "10/15/2025  10:03 AM    <DIR>          ..\n",
      "10/15/2025  09:59 AM            40,433 Hull Tactical - Market Prediction.ipynb\n",
      "09/15/2025  09:56 PM         4,190,401 hull-tactical-market-prediction.zip\n",
      "               2 File(s)      4,230,834 bytes\n",
      "               2 Dir(s)  14,564,245,504 bytes free\n"
     ]
    }
   ],
   "source": [
    "ls"
   ]
  },
  {
   "cell_type": "code",
   "execution_count": 9,
   "id": "2c73e464",
   "metadata": {},
   "outputs": [
    {
     "name": "stdout",
     "output_type": "stream",
     "text": [
      "Archive:  hull-tactical-market-prediction.zip\n",
      "  inflating: kaggle_evaluation/__init__.py  \n",
      "  inflating: kaggle_evaluation/core/__init__.py  \n",
      "  inflating: kaggle_evaluation/core/base_gateway.py  \n",
      "  inflating: kaggle_evaluation/core/generated/__init__.py  \n",
      "  inflating: kaggle_evaluation/core/generated/kaggle_evaluation_pb2.py  \n",
      "  inflating: kaggle_evaluation/core/generated/kaggle_evaluation_pb2_grpc.py  \n",
      "  inflating: kaggle_evaluation/core/kaggle_evaluation.proto  \n",
      "  inflating: kaggle_evaluation/core/relay.py  \n",
      "  inflating: kaggle_evaluation/core/templates.py  \n",
      "  inflating: kaggle_evaluation/default_gateway.py  \n",
      "  inflating: kaggle_evaluation/default_inference_server.py  \n",
      "  inflating: test.csv                \n",
      "  inflating: train.csv               \n"
     ]
    }
   ],
   "source": [
    "!unzip hull-tactical-market-prediction.zip"
   ]
  },
  {
   "cell_type": "code",
   "execution_count": 10,
   "id": "e9ac5fbd",
   "metadata": {},
   "outputs": [
    {
     "name": "stdout",
     "output_type": "stream",
     "text": [
      " Volume in drive C is Windows-SSD\n",
      " Volume Serial Number is EECE-D136\n",
      "\n",
      " Directory of c:\\Users\\AlphaZero\\OneDrive\\Documents\\Hull-Tactical-VsCode\n",
      "\n",
      "10/15/2025  10:03 AM    <DIR>          .\n",
      "10/15/2025  10:03 AM    <DIR>          ..\n",
      "10/15/2025  09:59 AM            40,433 Hull Tactical - Market Prediction.ipynb\n",
      "09/15/2025  09:56 PM         4,190,401 hull-tactical-market-prediction.zip\n",
      "10/15/2025  10:03 AM    <DIR>          kaggle_evaluation\n",
      "09/15/2025  09:56 PM            16,750 test.csv\n",
      "09/15/2025  09:56 PM        12,315,039 train.csv\n",
      "               4 File(s)     16,562,623 bytes\n",
      "               3 Dir(s)  14,550,650,880 bytes free\n"
     ]
    }
   ],
   "source": [
    "ls"
   ]
  },
  {
   "cell_type": "code",
   "execution_count": 1,
   "id": "8197b175",
   "metadata": {},
   "outputs": [],
   "source": [
    "import pandas as pd \n",
    "import numpy as np"
   ]
  },
  {
   "cell_type": "code",
   "execution_count": 2,
   "id": "500d2058",
   "metadata": {},
   "outputs": [],
   "source": [
    "df = pd.read_csv('train.csv')"
   ]
  },
  {
   "cell_type": "code",
   "execution_count": 3,
   "id": "4e6ab512",
   "metadata": {},
   "outputs": [
    {
     "data": {
      "text/plain": [
       "(8990, 98)"
      ]
     },
     "execution_count": 3,
     "metadata": {},
     "output_type": "execute_result"
    }
   ],
   "source": [
    "df.shape"
   ]
  },
  {
   "cell_type": "code",
   "execution_count": 4,
   "id": "b51a3634",
   "metadata": {},
   "outputs": [
    {
     "data": {
      "text/html": [
       "<div>\n",
       "<style scoped>\n",
       "    .dataframe tbody tr th:only-of-type {\n",
       "        vertical-align: middle;\n",
       "    }\n",
       "\n",
       "    .dataframe tbody tr th {\n",
       "        vertical-align: top;\n",
       "    }\n",
       "\n",
       "    .dataframe thead th {\n",
       "        text-align: right;\n",
       "    }\n",
       "</style>\n",
       "<table border=\"1\" class=\"dataframe\">\n",
       "  <thead>\n",
       "    <tr style=\"text-align: right;\">\n",
       "      <th></th>\n",
       "      <th>date_id</th>\n",
       "      <th>D1</th>\n",
       "      <th>D2</th>\n",
       "      <th>D3</th>\n",
       "      <th>D4</th>\n",
       "      <th>D5</th>\n",
       "      <th>D6</th>\n",
       "      <th>D7</th>\n",
       "      <th>D8</th>\n",
       "      <th>D9</th>\n",
       "      <th>...</th>\n",
       "      <th>V3</th>\n",
       "      <th>V4</th>\n",
       "      <th>V5</th>\n",
       "      <th>V6</th>\n",
       "      <th>V7</th>\n",
       "      <th>V8</th>\n",
       "      <th>V9</th>\n",
       "      <th>forward_returns</th>\n",
       "      <th>risk_free_rate</th>\n",
       "      <th>market_forward_excess_returns</th>\n",
       "    </tr>\n",
       "  </thead>\n",
       "  <tbody>\n",
       "    <tr>\n",
       "      <th>0</th>\n",
       "      <td>0</td>\n",
       "      <td>0</td>\n",
       "      <td>0</td>\n",
       "      <td>0</td>\n",
       "      <td>1</td>\n",
       "      <td>1</td>\n",
       "      <td>0</td>\n",
       "      <td>0</td>\n",
       "      <td>0</td>\n",
       "      <td>1</td>\n",
       "      <td>...</td>\n",
       "      <td>NaN</td>\n",
       "      <td>NaN</td>\n",
       "      <td>NaN</td>\n",
       "      <td>NaN</td>\n",
       "      <td>NaN</td>\n",
       "      <td>NaN</td>\n",
       "      <td>NaN</td>\n",
       "      <td>-0.002421</td>\n",
       "      <td>0.000301</td>\n",
       "      <td>-0.003038</td>\n",
       "    </tr>\n",
       "    <tr>\n",
       "      <th>1</th>\n",
       "      <td>1</td>\n",
       "      <td>0</td>\n",
       "      <td>0</td>\n",
       "      <td>0</td>\n",
       "      <td>1</td>\n",
       "      <td>1</td>\n",
       "      <td>0</td>\n",
       "      <td>0</td>\n",
       "      <td>0</td>\n",
       "      <td>1</td>\n",
       "      <td>...</td>\n",
       "      <td>NaN</td>\n",
       "      <td>NaN</td>\n",
       "      <td>NaN</td>\n",
       "      <td>NaN</td>\n",
       "      <td>NaN</td>\n",
       "      <td>NaN</td>\n",
       "      <td>NaN</td>\n",
       "      <td>-0.008495</td>\n",
       "      <td>0.000303</td>\n",
       "      <td>-0.009114</td>\n",
       "    </tr>\n",
       "    <tr>\n",
       "      <th>2</th>\n",
       "      <td>2</td>\n",
       "      <td>0</td>\n",
       "      <td>0</td>\n",
       "      <td>0</td>\n",
       "      <td>1</td>\n",
       "      <td>0</td>\n",
       "      <td>0</td>\n",
       "      <td>0</td>\n",
       "      <td>0</td>\n",
       "      <td>1</td>\n",
       "      <td>...</td>\n",
       "      <td>NaN</td>\n",
       "      <td>NaN</td>\n",
       "      <td>NaN</td>\n",
       "      <td>NaN</td>\n",
       "      <td>NaN</td>\n",
       "      <td>NaN</td>\n",
       "      <td>NaN</td>\n",
       "      <td>-0.009624</td>\n",
       "      <td>0.000301</td>\n",
       "      <td>-0.010243</td>\n",
       "    </tr>\n",
       "    <tr>\n",
       "      <th>3</th>\n",
       "      <td>3</td>\n",
       "      <td>0</td>\n",
       "      <td>0</td>\n",
       "      <td>0</td>\n",
       "      <td>1</td>\n",
       "      <td>0</td>\n",
       "      <td>0</td>\n",
       "      <td>0</td>\n",
       "      <td>0</td>\n",
       "      <td>0</td>\n",
       "      <td>...</td>\n",
       "      <td>NaN</td>\n",
       "      <td>NaN</td>\n",
       "      <td>NaN</td>\n",
       "      <td>NaN</td>\n",
       "      <td>NaN</td>\n",
       "      <td>NaN</td>\n",
       "      <td>NaN</td>\n",
       "      <td>0.004662</td>\n",
       "      <td>0.000299</td>\n",
       "      <td>0.004046</td>\n",
       "    </tr>\n",
       "    <tr>\n",
       "      <th>4</th>\n",
       "      <td>4</td>\n",
       "      <td>0</td>\n",
       "      <td>0</td>\n",
       "      <td>0</td>\n",
       "      <td>1</td>\n",
       "      <td>0</td>\n",
       "      <td>0</td>\n",
       "      <td>0</td>\n",
       "      <td>0</td>\n",
       "      <td>0</td>\n",
       "      <td>...</td>\n",
       "      <td>NaN</td>\n",
       "      <td>NaN</td>\n",
       "      <td>NaN</td>\n",
       "      <td>NaN</td>\n",
       "      <td>NaN</td>\n",
       "      <td>NaN</td>\n",
       "      <td>NaN</td>\n",
       "      <td>-0.011686</td>\n",
       "      <td>0.000299</td>\n",
       "      <td>-0.012301</td>\n",
       "    </tr>\n",
       "  </tbody>\n",
       "</table>\n",
       "<p>5 rows × 98 columns</p>\n",
       "</div>"
      ],
      "text/plain": [
       "   date_id  D1  D2  D3  D4  D5  D6  D7  D8  D9  ...  V3  V4  V5  V6  V7  V8  \\\n",
       "0        0   0   0   0   1   1   0   0   0   1  ... NaN NaN NaN NaN NaN NaN   \n",
       "1        1   0   0   0   1   1   0   0   0   1  ... NaN NaN NaN NaN NaN NaN   \n",
       "2        2   0   0   0   1   0   0   0   0   1  ... NaN NaN NaN NaN NaN NaN   \n",
       "3        3   0   0   0   1   0   0   0   0   0  ... NaN NaN NaN NaN NaN NaN   \n",
       "4        4   0   0   0   1   0   0   0   0   0  ... NaN NaN NaN NaN NaN NaN   \n",
       "\n",
       "   V9  forward_returns  risk_free_rate  market_forward_excess_returns  \n",
       "0 NaN        -0.002421        0.000301                      -0.003038  \n",
       "1 NaN        -0.008495        0.000303                      -0.009114  \n",
       "2 NaN        -0.009624        0.000301                      -0.010243  \n",
       "3 NaN         0.004662        0.000299                       0.004046  \n",
       "4 NaN        -0.011686        0.000299                      -0.012301  \n",
       "\n",
       "[5 rows x 98 columns]"
      ]
     },
     "execution_count": 4,
     "metadata": {},
     "output_type": "execute_result"
    }
   ],
   "source": [
    "df.head(5)"
   ]
  },
  {
   "cell_type": "markdown",
   "id": "f6c56e4a",
   "metadata": {},
   "source": [
    "**PreProcessing** : Here we go for those simple steps of data pre processing and not using advanced possible libraries. Let's first see for each column how many different values we have and how many of them are missing ! --- I like this type of dictionary way respresentation ......"
   ]
  },
  {
   "cell_type": "code",
   "execution_count": null,
   "id": "df4599cc",
   "metadata": {},
   "outputs": [],
   "source": [
    "df_v3_values=df['V3'].unique"
   ]
  },
  {
   "cell_type": "code",
   "execution_count": null,
   "id": "1a6b61c6",
   "metadata": {},
   "outputs": [
    {
     "ename": "KeyError",
     "evalue": "'v3'",
     "output_type": "error",
     "traceback": [
      "\u001b[1;31m---------------------------------------------------------------------------\u001b[0m",
      "\u001b[1;31mKeyError\u001b[0m                                  Traceback (most recent call last)",
      "\u001b[1;32m<ipython-input-41-b47b48a4a56f>\u001b[0m in \u001b[0;36m<module>\u001b[1;34m\u001b[0m\n\u001b[0;32m      1\u001b[0m \u001b[0mdict_v3\u001b[0m\u001b[1;33m=\u001b[0m\u001b[1;33m{\u001b[0m\u001b[1;33m}\u001b[0m\u001b[1;33m\u001b[0m\u001b[1;33m\u001b[0m\u001b[0m\n\u001b[1;32m----> 2\u001b[1;33m \u001b[0mdf\u001b[0m\u001b[1;33m=\u001b[0m\u001b[0mdf\u001b[0m\u001b[1;33m[\u001b[0m\u001b[1;34m'v3'\u001b[0m\u001b[1;33m]\u001b[0m\u001b[1;33m\u001b[0m\u001b[1;33m\u001b[0m\u001b[0m\n\u001b[0m",
      "\u001b[1;32m~\\anaconda3\\lib\\site-packages\\pandas\\core\\series.py\u001b[0m in \u001b[0;36m__getitem__\u001b[1;34m(self, key)\u001b[0m\n\u001b[0;32m    851\u001b[0m \u001b[1;33m\u001b[0m\u001b[0m\n\u001b[0;32m    852\u001b[0m         \u001b[1;32melif\u001b[0m \u001b[0mkey_is_scalar\u001b[0m\u001b[1;33m:\u001b[0m\u001b[1;33m\u001b[0m\u001b[1;33m\u001b[0m\u001b[0m\n\u001b[1;32m--> 853\u001b[1;33m             \u001b[1;32mreturn\u001b[0m \u001b[0mself\u001b[0m\u001b[1;33m.\u001b[0m\u001b[0m_get_value\u001b[0m\u001b[1;33m(\u001b[0m\u001b[0mkey\u001b[0m\u001b[1;33m)\u001b[0m\u001b[1;33m\u001b[0m\u001b[1;33m\u001b[0m\u001b[0m\n\u001b[0m\u001b[0;32m    854\u001b[0m \u001b[1;33m\u001b[0m\u001b[0m\n\u001b[0;32m    855\u001b[0m         \u001b[1;32mif\u001b[0m \u001b[0mis_hashable\u001b[0m\u001b[1;33m(\u001b[0m\u001b[0mkey\u001b[0m\u001b[1;33m)\u001b[0m\u001b[1;33m:\u001b[0m\u001b[1;33m\u001b[0m\u001b[1;33m\u001b[0m\u001b[0m\n",
      "\u001b[1;32m~\\anaconda3\\lib\\site-packages\\pandas\\core\\series.py\u001b[0m in \u001b[0;36m_get_value\u001b[1;34m(self, label, takeable)\u001b[0m\n\u001b[0;32m    959\u001b[0m \u001b[1;33m\u001b[0m\u001b[0m\n\u001b[0;32m    960\u001b[0m         \u001b[1;31m# Similar to Index.get_value, but we do not fall back to positional\u001b[0m\u001b[1;33m\u001b[0m\u001b[1;33m\u001b[0m\u001b[1;33m\u001b[0m\u001b[0m\n\u001b[1;32m--> 961\u001b[1;33m         \u001b[0mloc\u001b[0m \u001b[1;33m=\u001b[0m \u001b[0mself\u001b[0m\u001b[1;33m.\u001b[0m\u001b[0mindex\u001b[0m\u001b[1;33m.\u001b[0m\u001b[0mget_loc\u001b[0m\u001b[1;33m(\u001b[0m\u001b[0mlabel\u001b[0m\u001b[1;33m)\u001b[0m\u001b[1;33m\u001b[0m\u001b[1;33m\u001b[0m\u001b[0m\n\u001b[0m\u001b[0;32m    962\u001b[0m         \u001b[1;32mreturn\u001b[0m \u001b[0mself\u001b[0m\u001b[1;33m.\u001b[0m\u001b[0mindex\u001b[0m\u001b[1;33m.\u001b[0m\u001b[0m_get_values_for_loc\u001b[0m\u001b[1;33m(\u001b[0m\u001b[0mself\u001b[0m\u001b[1;33m,\u001b[0m \u001b[0mloc\u001b[0m\u001b[1;33m,\u001b[0m \u001b[0mlabel\u001b[0m\u001b[1;33m)\u001b[0m\u001b[1;33m\u001b[0m\u001b[1;33m\u001b[0m\u001b[0m\n\u001b[0;32m    963\u001b[0m \u001b[1;33m\u001b[0m\u001b[0m\n",
      "\u001b[1;32m~\\anaconda3\\lib\\site-packages\\pandas\\core\\indexes\\range.py\u001b[0m in \u001b[0;36mget_loc\u001b[1;34m(self, key, method, tolerance)\u001b[0m\n\u001b[0;32m    352\u001b[0m                 \u001b[1;32mexcept\u001b[0m \u001b[0mValueError\u001b[0m \u001b[1;32mas\u001b[0m \u001b[0merr\u001b[0m\u001b[1;33m:\u001b[0m\u001b[1;33m\u001b[0m\u001b[1;33m\u001b[0m\u001b[0m\n\u001b[0;32m    353\u001b[0m                     \u001b[1;32mraise\u001b[0m \u001b[0mKeyError\u001b[0m\u001b[1;33m(\u001b[0m\u001b[0mkey\u001b[0m\u001b[1;33m)\u001b[0m \u001b[1;32mfrom\u001b[0m \u001b[0merr\u001b[0m\u001b[1;33m\u001b[0m\u001b[1;33m\u001b[0m\u001b[0m\n\u001b[1;32m--> 354\u001b[1;33m             \u001b[1;32mraise\u001b[0m \u001b[0mKeyError\u001b[0m\u001b[1;33m(\u001b[0m\u001b[0mkey\u001b[0m\u001b[1;33m)\u001b[0m\u001b[1;33m\u001b[0m\u001b[1;33m\u001b[0m\u001b[0m\n\u001b[0m\u001b[0;32m    355\u001b[0m         \u001b[1;32mreturn\u001b[0m \u001b[0msuper\u001b[0m\u001b[1;33m(\u001b[0m\u001b[1;33m)\u001b[0m\u001b[1;33m.\u001b[0m\u001b[0mget_loc\u001b[0m\u001b[1;33m(\u001b[0m\u001b[0mkey\u001b[0m\u001b[1;33m,\u001b[0m \u001b[0mmethod\u001b[0m\u001b[1;33m=\u001b[0m\u001b[0mmethod\u001b[0m\u001b[1;33m,\u001b[0m \u001b[0mtolerance\u001b[0m\u001b[1;33m=\u001b[0m\u001b[0mtolerance\u001b[0m\u001b[1;33m)\u001b[0m\u001b[1;33m\u001b[0m\u001b[1;33m\u001b[0m\u001b[0m\n\u001b[0;32m    356\u001b[0m \u001b[1;33m\u001b[0m\u001b[0m\n",
      "\u001b[1;31mKeyError\u001b[0m: 'v3'"
     ]
    }
   ],
   "source": [
    "dict_v3={}\n",
    "df=df['v3']\n"
   ]
  },
  {
   "cell_type": "code",
   "execution_count": null,
   "id": "e47088e4",
   "metadata": {},
   "outputs": [],
   "source": [
    "\n",
    "for element in df_v3_values:\n",
    "    dict_v3['element'] = df['element'].value_counts()"
   ]
  }
 ],
 "metadata": {
  "kernelspec": {
   "display_name": "base",
   "language": "python",
   "name": "python3"
  },
  "language_info": {
   "codemirror_mode": {
    "name": "ipython",
    "version": 3
   },
   "file_extension": ".py",
   "mimetype": "text/x-python",
   "name": "python",
   "nbconvert_exporter": "python",
   "pygments_lexer": "ipython3",
   "version": "3.8.8"
  }
 },
 "nbformat": 4,
 "nbformat_minor": 5
}
